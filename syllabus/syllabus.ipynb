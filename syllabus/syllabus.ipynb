{
 "metadata": {
  "name": "",
  "signature": "sha256:05447f6925a5b6e4c5285c77a11f6731d74a80b9d822cc70bfc3439c62223520"
 },
 "nbformat": 3,
 "nbformat_minor": 0,
 "worksheets": [
  {
   "cells": [
    {
     "cell_type": "markdown",
     "metadata": {},
     "source": [
      "# Amazing Trash Class"
     ]
    },
    {
     "cell_type": "markdown",
     "metadata": {},
     "source": [
      "**Instructor :** Nicholas Johnson <br>\n",
      "**Email :** nejohnson2@gmail.com <br>\n",
      "**Date/Time/Location : ** TBD <br>"
     ]
    },
    {
     "cell_type": "markdown",
     "metadata": {},
     "source": [
      "---"
     ]
    },
    {
     "cell_type": "markdown",
     "metadata": {},
     "source": [
      "### Course Description\n",
      "---\n",
      "\n",
      "What was the last thing you threw out today?  Do you remember?  Why did you throw it away?  Have you ever wondered what happens next to that object?  This seven week course aims to discover and explore the hidden world of waste which penetrates every aspect of our lives whether we are aware of it or not.  We will explore a variety of topics including the history, evolution and current state of waste in our society as well as our individual and collective relationships to waste.   Over the seven weeks, students will research and explore various topics related to waste including landfills, recycling, urban waste infrastructures, the Great Garbage Patch(es), e-waste and many others.  Students will present their research weekly as well as design and develop a projects to further explore these topics.  The course will also include out of class field trips to various waste facilities in the city.  Possibilities include waste transfer stations, Freshkills Park(landfill) and Roosevelt Island vacuum collection system.  Students will also be asked to participate in weekly/bi-weekly challenges to understand waste in a new way.  (challenge example - document your waste for a week)    \"(working structure)"
     ]
    },
    {
     "cell_type": "markdown",
     "metadata": {},
     "source": [
      "### Course Aims\n",
      "\n",
      "---\n",
      "\n",
      "Upon successfully completing this course students will have a \n",
      "\n",
      "- students will have a web presence\n",
      "- students will conduct research outside of the classroom\n",
      "- "
     ]
    },
    {
     "cell_type": "markdown",
     "metadata": {},
     "source": [
      "### Topics\n",
      "\n",
      "---\n",
      "\n",
      "The class will include a variety of projects as well as a field trip."
     ]
    },
    {
     "cell_type": "markdown",
     "metadata": {},
     "source": [
      "#### Class 1 - The Waste Challenge\n",
      "\n",
      "- What is the class all about? (class structure, description, syllabus, expectations)\n",
      "- Class expectrations: be problem solvers, artists, journalists, reporters, explorers, documenters, story tellers\u2026anything\n",
      "- Materials and resources\n",
      "- What's the deal with trash?\n",
      "\n",
      "\n",
      "#### Assignment \n",
      "\n",
      "1. research something of interest\n",
      "\n",
      "---"
     ]
    },
    {
     "cell_type": "markdown",
     "metadata": {},
     "source": [
      "#### Class 2 - The Bigger Picture\n",
      "\n",
      "- Go over homework from last week - 5min presentations\n",
      "- Waste a part of a system - industrial, commercial, capitalist, social etc...\n",
      "\n",
      "\n",
      "#### Assignment\n",
      "1. research something of interest\n",
      "2. do something fun\n",
      "\n",
      "---"
     ]
    },
    {
     "cell_type": "markdown",
     "metadata": {},
     "source": [
      "#### Class 3\n",
      "\n",
      "- Go over homework from last week - 5min presentations\n",
      "- Waste a part of a system - industrial, commercial, capitalist, social etc...\n",
      "- **Guest Speaker**\n",
      "\n",
      "\n",
      "#### Assignment\n",
      "1. research something of interest\n",
      "2. do something fun\n",
      "\n",
      "---"
     ]
    },
    {
     "cell_type": "markdown",
     "metadata": {},
     "source": [
      "#### Class 4 - \n",
      "\n",
      "- Go over homework from last week - 5min presentations\n",
      "- Waste a part of a system - industrial, commercial, capitalist, social etc...\n",
      "\n",
      "\n",
      "#### Assignment\n",
      "1. research something of interest\n",
      "2. do something fun\n",
      "\n",
      "---"
     ]
    },
    {
     "cell_type": "markdown",
     "metadata": {},
     "source": [
      "#### Class 5\n",
      "\n",
      "- Go over homework from last week - 5min presentations\n",
      "- Waste a part of a system - industrial, commercial, capitalist, social etc...\n",
      "\n",
      "\n",
      "#### Assignment\n",
      "1. research something of interest\n",
      "2. do something fun\n",
      "\n",
      "---"
     ]
    },
    {
     "cell_type": "markdown",
     "metadata": {},
     "source": [
      "#### Class 6\n",
      "\n",
      "- Go over homework from last week - 5min presentations\n",
      "- Waste a part of a system - industrial, commercial, capitalist, social etc...\n",
      "\n",
      "\n",
      "#### Assignment\n",
      "1. research something of interest\n",
      "2. do something fun\n",
      "\n",
      "---"
     ]
    },
    {
     "cell_type": "markdown",
     "metadata": {},
     "source": [
      "#### Class 7 - Final Presentations\n",
      "\n",
      "Each student will have 15mins to discuss and present their final project"
     ]
    },
    {
     "cell_type": "markdown",
     "metadata": {},
     "source": [
      "### Evaluation\n",
      "\n",
      "---"
     ]
    },
    {
     "cell_type": "markdown",
     "metadata": {},
     "source": [
      "#### Attendence (35%)"
     ]
    },
    {
     "cell_type": "markdown",
     "metadata": {},
     "source": [
      "#### Documentation (30%)"
     ]
    },
    {
     "cell_type": "markdown",
     "metadata": {},
     "source": [
      "#### Final Project (35%)"
     ]
    },
    {
     "cell_type": "markdown",
     "metadata": {},
     "source": [
      "### Resources\n",
      "\n",
      "---"
     ]
    }
   ],
   "metadata": {}
  }
 ]
}