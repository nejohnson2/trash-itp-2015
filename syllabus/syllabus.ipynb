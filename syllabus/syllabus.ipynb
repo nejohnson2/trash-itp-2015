{
 "metadata": {
  "name": "",
  "signature": "sha256:83c7928c28d4f25744d73038406e3f934ae040beb75d54b6af3a2a3160a0d1ba"
 },
 "nbformat": 3,
 "nbformat_minor": 0,
 "worksheets": [
  {
   "cells": [
    {
     "cell_type": "markdown",
     "metadata": {},
     "source": [
      "# Amazing Trash Class\n",
      "### Trashy research and researching trash\n",
      "\n",
      "---\n",
      "\n",
      "<img src='images/street_trash.JPG' style='width: 450px; margin-left: 20px; margin-bottom: 10px;' align='right'>\n",
      "\n",
      "**Instructor :** Nicholas Johnson <br>\n",
      "**Email :** nejohnson2@gmail.com <br>\n",
      "**Date/Time/Location : ** TBD <br>\n",
      "\n",
      "### Course Description\n",
      "\n",
      "What was the last thing you threw out today?  Do you remember?  Why did you throw it away?  Have you ever wondered what happens next to that object?  This seven week course aims to discover and explore the hidden world of waste which penetrates every aspect of our lives whether we are aware of it or not.  We will explore a variety of topics including the history, evolution and current state of waste in our society as well as our individual and collective relationships to waste.   \n",
      "\n",
      "Over the seven weeks, students will research and explore various topics related to waste including landfills, recycling, urban waste infrastructures, the Great Garbage Patch(es), e-waste and many others.  Students will present their research weekly as well as design and develop a projects to further explore these topics.  The course will also include out of class field trips to various waste facilities in the city.  Possibilities include waste transfer stations, Freshkills Park(landfill) and Roosevelt Island vacuum collection system.  Students will also be asked to participate in weekly/bi-weekly challenges to understand waste in a new way.\n",
      "\n",
      "---"
     ]
    },
    {
     "cell_type": "markdown",
     "metadata": {},
     "source": [
      "### Course Aims\n",
      "\n",
      "The aim of this course is to develop students' ability to research difficult questions and apply technical/creative expertise to address and develop solutions to those problems.  The class will focus on the issue of waste a \n",
      "\n",
      "This course does not contain a technical educational component.  However, students will learn how to conduct research on a specific topic, how to clearly convey problems and how to choose the tools to address those problems.  Throughout the course students will learn and be expected to:\n",
      "\n",
      "- have a web presence\n",
      "- conduct research outside of the classroom\n",
      "- "
     ]
    },
    {
     "cell_type": "markdown",
     "metadata": {},
     "source": [
      "### Schedule"
     ]
    },
    {
     "cell_type": "markdown",
     "metadata": {},
     "source": [
      "#### Class 1 - The Waste Challenge\n",
      "\n",
      "- What is the class all about? (class structure, description, syllabus, expectations)\n",
      "- Class expectrations: be problem solvers, artists, journalists, reporters, explorers, documenters, story tellers\u2026anything\n",
      "- Materials and resources\n",
      "- What is research?\n",
      "- What's the deal with trash?\n",
      "    - Definitions\n",
      "    - Overview of waste\n",
      "\n",
      "\n",
      "#### Assignment \n",
      "\n",
      "1. Document waste in your life\n",
      "2. Place documentation somewhere on the web \n",
      "\n",
      "---"
     ]
    },
    {
     "cell_type": "markdown",
     "metadata": {},
     "source": [
      "#### Class 2 - Electronic Waste\n",
      "\n",
      "- Go over homework from last week - 5min presentations\n",
      "- What is electronic waste?\n",
      "- What are the challenges of electronic waste?\n",
      "- How to quantify electronic waste?\n",
      "- Discussion of next project\n",
      "\n",
      "\n",
      "#### Assignment\n",
      "1. research something of interest\n",
      "2. do something fun\n",
      "\n",
      "---"
     ]
    },
    {
     "cell_type": "markdown",
     "metadata": {},
     "source": [
      "#### Class 3 - If you can't beat them, join them\n",
      "\n",
      "- Go over homework from last week\n",
      "- Anthropology and waste\n",
      "- **Guest Speaker**\n",
      "\n",
      "\n",
      "#### Assignment\n",
      "1. Identify your research area and question\n",
      "2. \n",
      "\n",
      "---"
     ]
    },
    {
     "cell_type": "markdown",
     "metadata": {},
     "source": [
      "#### Class 4 - \n",
      "\n",
      "- Waste a part of a system - industrial, commercial, capitalist, social etc...\n",
      "\n",
      "#### Assignment\n",
      "1. research something of interest\n",
      "2. do something fun\n",
      "\n",
      "---"
     ]
    },
    {
     "cell_type": "markdown",
     "metadata": {},
     "source": [
      "#### Class 5\n",
      "\n",
      "- Go over homework from last week - 5min presentations\n",
      "- Waste a part of a system - industrial, commercial, capitalist, social etc...\n",
      "\n",
      "\n",
      "#### Assignment\n",
      "1. research something of interest\n",
      "2. do something fun\n",
      "\n",
      "---"
     ]
    },
    {
     "cell_type": "markdown",
     "metadata": {},
     "source": [
      "#### Class 6\n",
      "\n",
      "- Discuss final projects\n",
      "- Class workshop\n",
      "\n",
      "---"
     ]
    },
    {
     "cell_type": "markdown",
     "metadata": {},
     "source": [
      "#### Class 7 - Final Presentations\n",
      "\n",
      "Each student will have 15mins to discuss and present their final project"
     ]
    },
    {
     "cell_type": "markdown",
     "metadata": {},
     "source": [
      "### Evaluation\n",
      "\n",
      "---"
     ]
    },
    {
     "cell_type": "markdown",
     "metadata": {},
     "source": [
      "#### Attendence (35%)"
     ]
    },
    {
     "cell_type": "markdown",
     "metadata": {},
     "source": [
      "#### Documentation (30%)"
     ]
    },
    {
     "cell_type": "markdown",
     "metadata": {},
     "source": [
      "#### Final Project (35%)"
     ]
    },
    {
     "cell_type": "markdown",
     "metadata": {},
     "source": [
      "### Resources\n",
      "\n",
      "---"
     ]
    }
   ],
   "metadata": {}
  }
 ]
}