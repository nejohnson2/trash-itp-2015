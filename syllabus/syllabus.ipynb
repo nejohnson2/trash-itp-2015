{
 "metadata": {
  "name": "",
  "signature": "sha256:bbe46e1a4e007d527776188cfe7d48bb999486875174e6aab7c5d530c985ed22"
 },
 "nbformat": 3,
 "nbformat_minor": 0,
 "worksheets": [
  {
   "cells": [
    {
     "cell_type": "markdown",
     "metadata": {},
     "source": [
      "# Garbage In Garbage Out\n",
      "### Exploring the hidden world of waste\n",
      "\n",
      "---\n",
      "\n",
      "<img src='images/street_trash.JPG' style='width: 450px; margin-left: 20px; margin-bottom: 10px;' align='right'>\n",
      "\n",
      "**Instructor :** Nicholas Johnson <br>\n",
      "**Email :** nejohnson2@gmail.com <br>\n",
      "**Date/Time/Location : ** TBD <br>\n",
      "\n",
      "### Course Description\n",
      "\n",
      "Discarding materials is a practice deeply rooted in our society. It is such a natural act that we often give little thought to why we discard materials, why they lose their value and what happens to the materials after they have been disposed.  We are so accustomed to \"throwing away\" that we fail to see the complex global system which has tremendous environmental, political and social impacts.  Furthermore, the systems of waste production and disposal are intentionally hidden from public view in order to maintain this out of sight, out of mind mentality.  How then are we to recognize our intricate individual and collective relationship to trash?  How can we begin to explore these systems in order to understand their daily operation and mitigate their negative impacts?  What tools can we use to uncover the hidden life of trash?\n",
      "\n",
      "This class is aimed to highlight issues surrounding waste and the complex systems of reuse, recycling and trashing.  Over the seven weeks, students will explore various topics related to waste through readings, lectures, field trips and conducting their own project-based research.  Students will investigate the social, political and practical issues of discarding items and apply their technical and creative expertise to better understand the complexity of the topic.  Throughout the course students will learn how to develop research questions, to choose the appropriate tools to gather relevant information and to communicate complex and challenging issues.\n",
      "\n",
      "### Schedule\n",
      "\n",
      "- Class 1 - Observing Waste Systems\n",
      "- Class 2 - Digital Waste\n",
      "- Class 3 - The Invisible Urban System\n",
      "- Class 4 - The Waste We Eat\n",
      "- Class 5 - Recycling Reconsidered\n",
      "- Class 6 - Towards Zero Waste\n",
      "- Class 7 - Final Projects\n",
      "\n",
      "---"
     ]
    },
    {
     "cell_type": "markdown",
     "metadata": {},
     "source": [
      "### Schedule"
     ]
    },
    {
     "cell_type": "markdown",
     "metadata": {},
     "source": [
      "#### Class 1 - Observing Waste Systems\n",
      "\n",
      "- What is the class all about? (class structure, description, syllabus, expectations)\n",
      "- Class expectrations: be problem solvers, artists, journalists, reporters, explorers, documenters, story tellers\u2026anything\n",
      "- Materials and resources\n",
      "- What is research?\n",
      "- What's the deal with trash?\n",
      "    - Definitions\n",
      "    - Overview of waste\n",
      "\n",
      "\n",
      "#### Assignment \n",
      "\n",
      "1. Document waste in your life and waste in the city.\n",
      "2. \n",
      "\n",
      "---"
     ]
    },
    {
     "cell_type": "markdown",
     "metadata": {},
     "source": [
      "#### Class 2 - Digital Waste\n",
      "\n",
      "- What is electronic waste?\n",
      "- What are the challenges of electronic waste?\n",
      "- How to quantify electronic waste?\n",
      "\n",
      "\n",
      "#### Assignment\n",
      "1. \n",
      "2. \n",
      "\n",
      "---"
     ]
    },
    {
     "cell_type": "markdown",
     "metadata": {},
     "source": [
      "#### Class 3 - The invisible urban system \n",
      "\n",
      "- Role of cities in waste\n",
      "- The variety of systems handeling waste\n",
      "- The people who work with waste\n",
      "- If you can't beat them, join them\n",
      "- **Guest Speaker**\n",
      "\n",
      "\n",
      "#### Assignment\n",
      "1. \n",
      "2. \n",
      "\n",
      "---"
     ]
    },
    {
     "cell_type": "markdown",
     "metadata": {},
     "source": [
      "#### Class 4 - The Waste We Eat\n",
      "\n",
      "- What is food waste?  \n",
      "- What is the problem with food waste?\n",
      "- Individual and collective composting\n",
      "\n",
      "#### Assignment\n",
      "1. \n",
      "2. \n",
      "\n",
      "---"
     ]
    },
    {
     "cell_type": "markdown",
     "metadata": {},
     "source": [
      "#### Class 5 - Recycling Reconsidered\n",
      "\n",
      "- What is recycling? How does it work?\n",
      "- Economics of recycling\n",
      "\n",
      "\n",
      "#### Assignment\n",
      "1. \n",
      "2. \n",
      "\n",
      "---"
     ]
    },
    {
     "cell_type": "markdown",
     "metadata": {},
     "source": [
      "#### Class 6 - Towards Zero Waste\n",
      "\n",
      "- What is zero waste?\n",
      "- Is it reasonable?\n",
      "- Closing the loop\n",
      "\n",
      "---"
     ]
    },
    {
     "cell_type": "markdown",
     "metadata": {},
     "source": [
      "#### Class 7 - Final Presentations\n",
      "\n",
      "Each student will have 15mins to discuss and present their final project"
     ]
    },
    {
     "cell_type": "markdown",
     "metadata": {},
     "source": [
      "### Evaluation\n",
      "\n",
      "---"
     ]
    },
    {
     "cell_type": "markdown",
     "metadata": {},
     "source": [
      "#### Attendence (35%)"
     ]
    },
    {
     "cell_type": "markdown",
     "metadata": {},
     "source": [
      "#### Documentation (30%)"
     ]
    },
    {
     "cell_type": "markdown",
     "metadata": {},
     "source": [
      "#### Final Project (35%)"
     ]
    },
    {
     "cell_type": "markdown",
     "metadata": {},
     "source": [
      "### Resources\n",
      "\n",
      "---"
     ]
    }
   ],
   "metadata": {}
  }
 ]
}