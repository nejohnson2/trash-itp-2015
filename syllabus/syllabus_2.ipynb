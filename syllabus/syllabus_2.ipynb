{
 "metadata": {
  "name": "",
  "signature": "sha256:a9651507cb4d7580ff19742bfb788fe49d671f394c47921f9223c52f804f326b"
 },
 "nbformat": 3,
 "nbformat_minor": 0,
 "worksheets": [
  {
   "cells": [
    {
     "cell_type": "markdown",
     "metadata": {},
     "source": [
      "# Garbage In Garbage Out\n",
      "### Exploring the hidden world of waste\n",
      "\n",
      "---\n",
      "\n",
      "<img src='images/street_trash.JPG' style='width: 450px; margin-left: 20px; margin-bottom: 10px;' align='right'>\n",
      "\n",
      "**Instructor :** Nicholas Johnson <br>\n",
      "**Email :** nejohnson2@gmail.com <br>\n",
      "**Date/Time/Location : ** TBD <br>\n",
      "\n",
      "### Course Description\n",
      "\n",
      "Discarding materials is a practice deeply rooted in our society. It is such a natural act that we often give little thought to why we discard materials, why they lose their value and what happens to the materials after they have been disposed.  We are so accustomed to \"throwing away\" that we fail to see the complex global system which has tremendous environmental, political and social impacts.  Furthermore, the systems of waste production and disposal are intentionally hidden from public view in order to maintain this out of sight, out of mind mentality.  How then are we to recognize our intricate individual and collective relationship to trash?  How can we begin to explore these systems in order to understand their daily operation and mitigate their negative impacts?  By what means can we use to uncover the hidden life of trash?\n",
      "\n",
      "This class is aimed to highlight issues surrounding waste and the complex systems of reuse, recycling and trashing.  Over the seven weeks, students will explore various topics related to waste through readings, lectures, field trips and conducting their own project-based research.  Students will investigate the social, political and practical issues of discarding items and apply their technical and creative expertise to better understand the complexity of the topic. \n",
      "\n",
      "\n",
      "### Schedule\n",
      "\n",
      "- Class 1 - Observing Waste Systems\n",
      "- Class 2 - CPUs in the Trash\n",
      "- Class 3 - The Invisible Urban System\n",
      "- Class 4 - The Waste We Eat\n",
      "- Class 5 - Recycling Reconsidered\n",
      "- Class 6 - Towards Zero Waste\n",
      "- Class 7 - Final Projects\n",
      "\n",
      "---"
     ]
    }
   ],
   "metadata": {}
  }
 ]
}