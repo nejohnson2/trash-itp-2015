{
 "metadata": {
  "name": "",
  "signature": "sha256:b31cd12e99f847b56915208123cb0cb34d5e5850b8a7d7260593e5242140aac6"
 },
 "nbformat": 3,
 "nbformat_minor": 0,
 "worksheets": [
  {
   "cells": [
    {
     "cell_type": "markdown",
     "metadata": {},
     "source": [
      "# Garbage In Garbage Out\n",
      "### Exploring the hidden world of waste\n",
      "\n",
      "---\n",
      "\n",
      "<img src='images/street_trash.JPG' style='width: 450px; margin-left: 20px; margin-bottom: 10px;' align='right'>\n",
      "\n",
      "**Instructor :** Nicholas Johnson <br>\n",
      "**Email :** nejohnson2@gmail.com <br>\n",
      "**Date/Time/Location : ** TBD <br>\n",
      "\n",
      "### Course Description\n",
      "\n",
      "Discarding materials is a practice deeply rooted in our society. It is such a natural act that we often give little thought to why we discard materials, why they lose their value and what happens to the materials after they have been disposed.  We are so accustomed to \"throwing away\" that we fail to see the complex global system which has tremendous environmental, political and social impacts.  Furthermore, the systems of waste production and disposal are intentionally hidden from public view in order to maintain this out of sight, out of mind mentality.  How then are we to recognize our intricate individual and collective relationship to trash?  How can we begin to explore these systems in order to understand their daily operation and mitigate their negative impacts?  By what means can we use to uncover the hidden life of trash?\n",
      "\n",
      "Over the seven weeks students will develop useful skills including problem identification, conducting research and communication by highlighting issues surrounding systems of reuse, recycling and trashing.  The course will explore the social, political and practical challenges of discarding items through readings, guest lectures, field trips and having students conducting their own project-based research culminating in a final project.\n",
      "\n",
      "\n",
      "### Schedule\n",
      "\n",
      "- Class 1 - Observing Waste Systems\n",
      "- Class 2 - CPUs in the Trash\n",
      "- Class 3 - The Invisible Urban System\n",
      "- Class 4 - The Waste We Eat\n",
      "- Class 5 - Recycling Reconsidered\n",
      "- Class 6 - Towards Zero Waste\n",
      "- Class 7 - Final Projects\n",
      "\n",
      "---"
     ]
    },
    {
     "cell_type": "markdown",
     "metadata": {},
     "source": [
      "### Readings\n",
      "\n",
      "These texts are not required for class but provide substantial context for what we will be discussing.\n",
      "\n",
      "#### Books\n",
      "- McBride, Samantha. [*Recycling Reconsidered*](http://mitpress.mit.edu/books/recycling-reconsidered). MIT Press, 2012.\n",
      "    - This is an execellent resource about the effectiveness (or lack of effectiveness) of the American recycling system and and analysis of who and what are benefitting from recycling\n",
      "- Alexander, Catherine and Joshua Reno. [*Economies of Recycling*: The Global Transformation of Materials, Values and Social Relations.]() Zed Books, 2012\n",
      "    - A collection of academic studies about systems of recycling.  Several studies also focus on the 'hidden recycling' of nuclear waste, large cargo ships and clothing.\n",
      "- Rodgers, Heather.[*Gone Tommorow*: The Hidden Life of Garbage](http://thenewpress.com/books/gone-tomorrow). The New Press, 2005\n",
      "- Minter, Adam. [*Junkyard Planet*: Travels in the Billion-Dollar Trash Trade](http://shanghaiscrap.com/books/junkyard-planet/) Bloomsbury Press, 2013\n",
      "    - Minter provides an interesting perspective about scrapyards and recyclings given his personal ties to the industry.\n",
      "- Nagel, Robin. [*Picking Up*: On the Streets and Behind the Trucks with the Sanitation Workers of New York City](http://www.amazon.com/Picking-Up-Streets-Sanitation-Workers/dp/0374534276). FSG, 2013\n",
      "    - Provides a wonderful understanding of the people who clean up the streets and the challenges they deal with everyday.  If you live in New York City, you should read this book!\n",
      "- Bullard, Robert. [*Dumping in Dixie*: Race, Class and Environmental Quality](). Westview Press, 2000\n",
      "    - This is an older text but is still important today.  It is a study of environmental actions in the American south and begins to quantify the injustices of the lower income and minority communities.\n"
     ]
    },
    {
     "cell_type": "markdown",
     "metadata": {},
     "source": [
      "### Evaluation\n",
      "\n",
      "Class evaluation is as follows:\n",
      "\n",
      "- Attendence and Class Participation: 35%\n",
      "- Documentation: 30%\n",
      "- Final Project and Assignments: 35%"
     ]
    },
    {
     "cell_type": "markdown",
     "metadata": {},
     "source": [
      "### Final Project\n",
      "\n"
     ]
    }
   ],
   "metadata": {}
  }
 ]
}